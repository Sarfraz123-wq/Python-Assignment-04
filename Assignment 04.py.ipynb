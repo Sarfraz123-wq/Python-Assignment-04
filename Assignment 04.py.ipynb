{
 "cells": [
  {
   "cell_type": "code",
   "execution_count": null,
   "id": "f216dbcd",
   "metadata": {},
   "outputs": [],
   "source": [
    "'''\n",
    "1. Make a calculator using Python with addition , subtraction ,\n",
    "multiplication ,division and power.\n",
    "'''\n",
    "import math\n",
    "def addition(num1,num2):\n",
    "    return num1 + num2\n",
    "\n",
    "def subtract(num1,num2):\n",
    "    return num1 - num2\n",
    "\n",
    "def multiplication(num1,num2):\n",
    "    return num1 * num2\n",
    "\n",
    "def division(num1,num2):\n",
    "    return num1 / num2\n",
    "def power(num1,num2):\n",
    "    return math.pow(num1,num2)\n",
    "\n",
    "while True:\n",
    "    choice = input(\"What You wanna do ?(addition/subtraction/multiplication/division/power): type here.\")\n",
    "\n",
    "    if choice in ('addition', 'subtraction', 'multiplication', 'division', 'power'):\n",
    "        num1 = float(input(\"Enter first number: \"))\n",
    "        num2 = float(input(\"Enter second number: \"))\n",
    "\n",
    "        if choice == 'addition':\n",
    "            print(num1, \"+\", num2, \"=\", addition(num1, num2))\n",
    "\n",
    "        elif choice == 'subtraction':\n",
    "            print(num1, \"-\", num2, \"=\", subtract(num1, num2))\n",
    "\n",
    "        elif choice == 'multiplication':\n",
    "            print(num1, \"*\", num2, \"=\", multiplication(num1, num2))\n",
    "\n",
    "        elif choice == 'division':\n",
    "            print(num1, \"/\", num2, \"=\", division(num1, num2))\n",
    "        elif choice == 'power':\n",
    "            print(num1, \"^\", num2, \"=\", power(num1, num2))\n",
    "    \n",
    "        "
   ]
  },
  {
   "cell_type": "code",
   "execution_count": 33,
   "id": "cbaaf56c",
   "metadata": {},
   "outputs": [
    {
     "name": "stdout",
     "output_type": "stream",
     "text": [
      "yes this list contains numeric value\n"
     ]
    }
   ],
   "source": [
    "'''\n",
    "2. Write a program to check if there is any numeric value in list using for\n",
    "loop.\n",
    "'''\n",
    "\n",
    "# lst = ['a','b',False, 'yes',3,True]\n",
    "def myLst(lst):\n",
    "    for i in range(len(lst)):\n",
    "        if(type(lst[i]) == int or type(lst[i] == float)):\n",
    "            print('yes this list contains numeric value')\n",
    "            break;\n",
    "        else:\n",
    "            print('This list not contains any numeric value')\n",
    "lst = ['a','b',False, 'yes',3,True]\n",
    "myLst(lst)    "
   ]
  },
  {
   "cell_type": "code",
   "execution_count": 37,
   "id": "75ac7513",
   "metadata": {},
   "outputs": [
    {
     "name": "stdout",
     "output_type": "stream",
     "text": [
      "{'key1': 'val1', 'key2': 'val2', 'key3': 'val3', 'key4': 'val4'}\n"
     ]
    }
   ],
   "source": [
    "'''\n",
    "3. Write a Python script to add a key to a dictionary.\n",
    "\n",
    "'''\n",
    "\n",
    "myDict = {\n",
    "    \"key1\":\"val1\",\n",
    "    \"key2\":\"val2\",\n",
    "    \"key3\":\"val3\",\n",
    "} \n",
    "#print(myDict)\n",
    "myDict[\"key4\"] = \"val4\"\n",
    "print(myDict)"
   ]
  },
  {
   "cell_type": "code",
   "execution_count": 43,
   "id": "5b0b76a7",
   "metadata": {},
   "outputs": [
    {
     "name": "stdout",
     "output_type": "stream",
     "text": [
      "62\n"
     ]
    }
   ],
   "source": [
    "'''\n",
    "4. Write a Python program to sum all the numeric items in a dictionary.\n",
    "\n",
    "'''\n",
    "\n",
    "d = {'key1': 1, 'key2': 'abc','key3': 14,'key4':'xyz', 'key5': 47}\n",
    "sum=0\n",
    "for i in d.values():\n",
    "    #print(i)\n",
    "    if(type(i) == int or type(i) == float):\n",
    "        sum+=i\n",
    "print(sum)\n",
    "\n",
    "\n"
   ]
  },
  {
   "cell_type": "code",
   "execution_count": 54,
   "id": "1b9e0207",
   "metadata": {},
   "outputs": [
    {
     "name": "stdout",
     "output_type": "stream",
     "text": [
      "Repeated Numbers are :\n",
      "1\n",
      "4\n"
     ]
    }
   ],
   "source": [
    "'''\n",
    "5. Write a program to identify duplicate values from list.\n",
    "'''\n",
    "my_list = [3, 5, 2, 1, 4, 4, 1]\n",
    "print(\"Repeated Numbers are :\")\n",
    "for i in set(my_list):\n",
    "    if my_list.count(i) > 1:\n",
    "        print(i)"
   ]
  },
  {
   "cell_type": "code",
   "execution_count": 57,
   "id": "6976bcfe",
   "metadata": {},
   "outputs": [
    {
     "name": "stdout",
     "output_type": "stream",
     "text": [
      "Not exists\n"
     ]
    }
   ],
   "source": [
    "'''\n",
    "6. Write a Python script to check if a given key already exists in a\n",
    "dictionary\n",
    "'''\n",
    "myDict = {'key1': 'val1', 'key2': 'val2', 'key3': 'val3', 'key4': 'val4'}\n",
    "\n",
    "keys = myDict.keys()\n",
    "if 'key8' in keys:\n",
    "    print(\"Already Exists\")\n",
    "else:\n",
    "    print(\"Not exists\")"
   ]
  },
  {
   "cell_type": "code",
   "execution_count": null,
   "id": "6481e84d",
   "metadata": {},
   "outputs": [],
   "source": []
  }
 ],
 "metadata": {
  "kernelspec": {
   "display_name": "Python 3",
   "language": "python",
   "name": "python3"
  },
  "language_info": {
   "codemirror_mode": {
    "name": "ipython",
    "version": 3
   },
   "file_extension": ".py",
   "mimetype": "text/x-python",
   "name": "python",
   "nbconvert_exporter": "python",
   "pygments_lexer": "ipython3",
   "version": "3.8.8"
  }
 },
 "nbformat": 4,
 "nbformat_minor": 5
}
